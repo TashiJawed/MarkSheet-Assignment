{
 "cells": [
  {
   "cell_type": "markdown",
   "metadata": {},
   "source": [
    "<h1>Marksheet Assignment</h1>\n",
    "<h6>Name : Muhammad Tashfain Jawed</h6>\n",
    "<h6>Roll No: AIC007328</h6>\n",
    "<h6>Shift : 12:15 - 3:15</h6>"
   ]
  },
  {
   "cell_type": "code",
   "execution_count": 34,
   "metadata": {},
   "outputs": [
    {
     "name": "stdout",
     "output_type": "stream",
     "text": [
      "Enter No of Subjects: 7\n",
      "Enter Subject English\n",
      "Enter Marks out of 100 for Subject English:78\n",
      "Enter Subject Physics\n",
      "Enter Marks out of 100 for Subject Physics:98\n",
      "Enter Subject AI\n",
      "Enter Marks out of 100 for Subject AI:90\n",
      "Enter Subject ML\n",
      "Enter Marks out of 100 for Subject ML:78\n",
      "Enter Subject Urdu\n",
      "Enter Marks out of 100 for Subject Urdu:67\n",
      "Enter Subject Islamiat\n",
      "Enter Marks out of 100 for Subject Islamiat:99\n",
      "Enter Subject Data Science\n",
      "Enter Marks out of 100 for Subject Data Science:100\n",
      "['English', 'Physics', 'AI', 'ML', 'Urdu', 'Islamiat', 'Data Science']\n",
      "[78.0, 98.0, 90.0, 78.0, 67.0, 99.0, 100.0]\n",
      "610.0\n",
      "87.14285714285714\n",
      "700\n"
     ]
    }
   ],
   "source": [
    "n = int(input(\"Enter No of Subjects: \"))\n",
    "subjects = []\n",
    "marks = []\n",
    "total = 100\n",
    "for i in range(n):\n",
    "    s = input(\"Enter Subject \")\n",
    "    subjects.append(s)\n",
    "    z = \"Enter Marks out of 100 for Subject \" + s + \":\"\n",
    "    x = float(input(z))\n",
    "    marks.append(x)\n",
    "print(subjects)\n",
    "print(marks)\n",
    "\n",
    "sum = 0\n",
    "total_marks = n * 100\n",
    "for i in range(n):\n",
    "    sum += marks[i]\n",
    "print(sum)\n",
    "\n",
    "percentage = (sum/total_marks)*100\n",
    "print(percentage)\n",
    "print (total_marks)\n",
    "\n",
    "import csv\n",
    "with open(\"marksheet.csv\",\"w\", newline = \"\") as f:\n",
    "    data_handler = csv.writer(f, delimiter=\",\")\n",
    "    data_handler.writerow([\"subjects\",\"Marks Obtained\",\"total marks\"])\n",
    "    for i in range(len(subjects)):\n",
    "        data_handler.writerow([subjects[i],marks[i],total])\n",
    "    data_handler.writerow(\"\")\n",
    "    data_handler.writerow([\"total marks\",sum,total_marks])\n",
    "    data_handler.writerow([\"\",\"Percentage\",percentage])\n"
   ]
  }
 ],
 "metadata": {
  "kernelspec": {
   "display_name": "py36-test",
   "language": "python",
   "name": "py36-test"
  },
  "language_info": {
   "codemirror_mode": {
    "name": "ipython",
    "version": 3
   },
   "file_extension": ".py",
   "mimetype": "text/x-python",
   "name": "python",
   "nbconvert_exporter": "python",
   "pygments_lexer": "ipython3",
   "version": "3.6.8"
  }
 },
 "nbformat": 4,
 "nbformat_minor": 2
}
